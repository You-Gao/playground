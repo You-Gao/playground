{
 "cells": [
  {
   "cell_type": "code",
   "execution_count": 1,
   "metadata": {},
   "outputs": [
    {
     "name": "stdout",
     "output_type": "stream",
     "text": [
      "WARNING:tensorflow:From C:\\Users\\commo\\AppData\\Roaming\\Python\\Python311\\site-packages\\keras\\src\\losses.py:2976: The name tf.losses.sparse_softmax_cross_entropy is deprecated. Please use tf.compat.v1.losses.sparse_softmax_cross_entropy instead.\n",
      "\n"
     ]
    },
    {
     "name": "stderr",
     "output_type": "stream",
     "text": [
      "C:\\Users\\commo\\AppData\\Roaming\\Python\\Python311\\site-packages\\transformers\\pipelines\\text_classification.py:105: UserWarning: `return_all_scores` is now deprecated,  if want a similar functionality use `top_k=None` instead of `return_all_scores=True` or `top_k=1` instead of `return_all_scores=False`.\n",
      "  warnings.warn(\n"
     ]
    },
    {
     "name": "stdout",
     "output_type": "stream",
     "text": [
      "[{'label': 'sadness', 'score': 0.9935391545295715}, {'label': 'joy', 'score': 0.00018158488092012703}, {'label': 'love', 'score': 0.0005867218715138733}, {'label': 'anger', 'score': 0.004055023193359375}, {'label': 'fear', 'score': 0.0013978506904095411}, {'label': 'surprise', 'score': 0.00023969798348844051}]\n",
      "[[{'label': 'sadness', 'score': 0.9935391545295715}, {'label': 'joy', 'score': 0.00018158488092012703}, {'label': 'love', 'score': 0.0005867218715138733}, {'label': 'anger', 'score': 0.004055023193359375}, {'label': 'fear', 'score': 0.0013978506904095411}, {'label': 'surprise', 'score': 0.00023969798348844051}]]\n"
     ]
    }
   ],
   "source": [
    "from transformers import pipeline\n",
    "classifier = pipeline(\"text-classification\",model='bhadresh-savani/bert-base-uncased-emotion', return_all_scores=True)\n",
    "prediction = classifier(\"one of my classmates called me names and it made me sad\", )\n",
    "\n",
    "emotion_colors = {\n",
    "    'sadness': (0, 0, 255),  # Blue\n",
    "    'joy': (255, 255, 0),    # Yellow\n",
    "    'love': (255, 0, 255),   # Magenta\n",
    "    'anger': (255, 0, 0),    # Red\n",
    "    'fear': (128, 0, 128),   # Purple\n",
    "    'surprise': (0, 255, 255) # Cyan\n",
    "}\n",
    "\n",
    "# rgb_scores = []\n",
    "# for emotion, score in zip(prediction[0]['labels'], prediction[0]['scores']):\n",
    "#     rgb_scores.append((emotion_colors[emotion], score))\n",
    "\n",
    "# print(rgb_scores)\n",
    "print(prediction[0])\n",
    "print(prediction)"
   ]
  },
  {
   "cell_type": "code",
   "execution_count": 2,
   "metadata": {},
   "outputs": [
    {
     "data": {
      "text/plain": [
       "[{'label': 'sadness', 'score': 0.9935391545295715},\n",
       " {'label': 'joy', 'score': 0.00018158488092012703},\n",
       " {'label': 'love', 'score': 0.0005867218715138733},\n",
       " {'label': 'anger', 'score': 0.004055023193359375},\n",
       " {'label': 'fear', 'score': 0.0013978506904095411},\n",
       " {'label': 'surprise', 'score': 0.00023969798348844051}]"
      ]
     },
     "execution_count": 2,
     "metadata": {},
     "output_type": "execute_result"
    }
   ],
   "source": [
    "prediction[0]"
   ]
  },
  {
   "cell_type": "code",
   "execution_count": 10,
   "metadata": {},
   "outputs": [
    {
     "data": {
      "text/plain": [
       "[{'label': 'sadness', 'score': 0.9935391545295715},\n",
       " {'label': 'joy', 'score': 0.00018158488092012703},\n",
       " {'label': 'love', 'score': 0.0005867218715138733},\n",
       " {'label': 'anger', 'score': 0.004055023193359375},\n",
       " {'label': 'fear', 'score': 0.0013978506904095411},\n",
       " {'label': 'surprise', 'score': 0.00023969798348844051}]"
      ]
     },
     "execution_count": 10,
     "metadata": {},
     "output_type": "execute_result"
    }
   ],
   "source": [
    "prediction[0]"
   ]
  },
  {
   "cell_type": "code",
   "execution_count": 11,
   "metadata": {},
   "outputs": [
    {
     "name": "stdout",
     "output_type": "stream",
     "text": [
      "0 {'label': 'sadness', 'score': 0.9935391545295715}\n",
      "1 {'label': 'joy', 'score': 0.00018158488092012703}\n",
      "2 {'label': 'love', 'score': 0.0005867218715138733}\n",
      "3 {'label': 'anger', 'score': 0.004055023193359375}\n",
      "4 {'label': 'fear', 'score': 0.0013978506904095411}\n",
      "5 {'label': 'surprise', 'score': 0.00023969798348844051}\n"
     ]
    }
   ],
   "source": [
    "for diction, i in enumerate(prediction[0]):\n",
    "    print(diction, i)"
   ]
  },
  {
   "cell_type": "code",
   "execution_count": null,
   "metadata": {},
   "outputs": [
    {
     "name": "stdout",
     "output_type": "stream",
     "text": [
      "[0.0040550230589383495, 0.0, 251.36539776340393]\n"
     ]
    }
   ],
   "source": [
    "rgbs = []\n",
    "weights = []\n",
    "for i, diction in enumerate(prediction[0]):\n",
    "    label = diction['label']\n",
    "    score = diction['score']\n",
    "    rgb = emotion_colors[label]\n",
    "    rgb = tuple([int(x * score) for x in rgb])\n",
    "    rgbs.append(rgb)\n",
    "    weights.append(score)\n",
    "\n",
    "mean_rgb = [0, 0, 0]\n",
    "for i in range(3):\n",
    "    val = []\n",
    "    for rgb in rgbs:\n",
    "        val.append(rgb[i])\n",
    "    mean_rgb[i] = np.average(val, weights=weights)\n",
    "    \n",
    "print(mean_rgb)"
   ]
  }
 ],
 "metadata": {
  "kernelspec": {
   "display_name": "Python 3",
   "language": "python",
   "name": "python3"
  },
  "language_info": {
   "codemirror_mode": {
    "name": "ipython",
    "version": 3
   },
   "file_extension": ".py",
   "mimetype": "text/x-python",
   "name": "python",
   "nbconvert_exporter": "python",
   "pygments_lexer": "ipython3",
   "version": "3.11.3"
  }
 },
 "nbformat": 4,
 "nbformat_minor": 2
}
